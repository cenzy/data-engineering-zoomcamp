{
 "cells": [
  {
   "cell_type": "code",
   "execution_count": 3,
   "metadata": {},
   "outputs": [],
   "source": [
    "import psycopg2"
   ]
  },
  {
   "cell_type": "code",
   "execution_count": 10,
   "metadata": {},
   "outputs": [],
   "source": [
    "connection = psycopg2.connect(user=\"root\",\n",
    "                                password=\"root\",\n",
    "                                host=\"127.0.0.1\",\n",
    "                                port=\"5432\",\n",
    "                                database=\"ny_taxi\")\n",
    "\n",
    "cursor = connection.cursor()"
   ]
  },
  {
   "attachments": {},
   "cell_type": "markdown",
   "metadata": {},
   "source": [
    "## Question 3. Count records\n",
    "How many taxi trips were totally made on January 15?\n",
    "\n",
    "Tip: started and finished on 2019-01-15.\n",
    "\n",
    "Remember that lpep_pickup_datetime and lpep_dropoff_datetime columns are in the format timestamp (date and hour+min+sec) and not in date.\n",
    "\n",
    "- 20689\n",
    "- 20530\n",
    "- 17630\n",
    "- 21090\n"
   ]
  },
  {
   "cell_type": "code",
   "execution_count": 18,
   "metadata": {},
   "outputs": [
    {
     "name": "stdout",
     "output_type": "stream",
     "text": [
      "20530\n"
     ]
    }
   ],
   "source": [
    "query = \"SELECT COUNT(*) FROM green_taxi_data WHERE DATE(lpep_pickup_datetime) = '2019-01-15' AND DATE(lpep_dropoff_datetime) = '2019-01-15'\"\n",
    "cursor.execute(query)\n",
    "answer = cursor.fetchone()[0]\n",
    "print(answer)"
   ]
  },
  {
   "attachments": {},
   "cell_type": "markdown",
   "metadata": {},
   "source": [
    "## Question 3. Largest trip for each day\n",
    "\n",
    "Which was the day with the largest trip distance Use the pick up time for your calculations.\n",
    "\n",
    "- 2019-01-18\n",
    "- 2019-01-28\n",
    "- 2019-01-15\n",
    "- 2019-01-10\n"
   ]
  },
  {
   "cell_type": "code",
   "execution_count": 19,
   "metadata": {},
   "outputs": [
    {
     "name": "stdout",
     "output_type": "stream",
     "text": [
      "2019-01-15 19:27:58\n"
     ]
    }
   ],
   "source": [
    "query = \"SELECT lpep_pickup_datetime FROM green_taxi_data ORDER BY trip_distance DESC LIMIT 1\"\n",
    "cursor.execute(query)\n",
    "answer = cursor.fetchone()[0]\n",
    "print(answer)"
   ]
  },
  {
   "attachments": {},
   "cell_type": "markdown",
   "metadata": {},
   "source": [
    "## Question 5. The number of passengers\n",
    "In 2019-01-01 how many trips had 2 and 3 passengers?\n",
    "\n",
    "- 2: 1282 ; 3: 266\n",
    "- 2: 1532 ; 3: 126\n",
    "- 2: 1282 ; 3: 254\n",
    "- 2: 1282 ; 3: 274\n"
   ]
  },
  {
   "cell_type": "code",
   "execution_count": 22,
   "metadata": {},
   "outputs": [
    {
     "name": "stdout",
     "output_type": "stream",
     "text": [
      "2: 1282\n",
      "3: 254\n"
     ]
    }
   ],
   "source": [
    "query = \"SELECT COUNT(*) FROM green_taxi_data WHERE passenger_count=2 AND DATE(lpep_pickup_datetime) = '2019-01-01'\"\n",
    "cursor.execute(query)\n",
    "answer = cursor.fetchone()[0]\n",
    "print(f'2: {answer}')\n",
    "\n",
    "query = \"SELECT COUNT(*) FROM green_taxi_data WHERE passenger_count=3 AND DATE(lpep_pickup_datetime) = '2019-01-01'\"\n",
    "cursor.execute(query)\n",
    "answer = cursor.fetchone()[0]\n",
    "print(f'3: {answer}')"
   ]
  },
  {
   "attachments": {},
   "cell_type": "markdown",
   "metadata": {},
   "source": [
    "## Question 6. Largest tip\n",
    "For the passengers picked up in the Astoria Zone which was the drop off zone that had the largest tip? We want the name of the zone, not the id.\n",
    "\n",
    "Note: it's not a typo, it's tip , not trip\n",
    "\n",
    "- Central Park\n",
    "- Jamaica\n",
    "- South Ozone Park\n",
    "- Long Island City/Queens Plaza\n"
   ]
  },
  {
   "cell_type": "code",
   "execution_count": 25,
   "metadata": {},
   "outputs": [
    {
     "name": "stdout",
     "output_type": "stream",
     "text": [
      "Long Island City/Queens Plaza\n"
     ]
    }
   ],
   "source": [
    "query = \"\"\"\n",
    "SELECT arrive.\\\"Zone\\\" \n",
    "FROM green_taxi_data t1 INNER JOIN  yello_taxi_zone start ON t1.\\\"PULocationID\\\" = start.\\\"LocationID\\\" \n",
    "                        INNER JOIN yello_taxi_zone arrive ON t1.\\\"DOLocationID\\\" = arrive.\\\"LocationID\\\" \n",
    "WHERE start.\\\"Zone\\\" = 'Astoria' \n",
    "ORDER BY t1.\\\"tip_amount\\\" \n",
    "DESC LIMIT 1\n",
    "\"\"\"\n",
    "\n",
    "cursor.execute(query)\n",
    "answer = cursor.fetchone()[0]\n",
    "print(answer)"
   ]
  },
  {
   "cell_type": "code",
   "execution_count": null,
   "metadata": {},
   "outputs": [],
   "source": []
  }
 ],
 "metadata": {
  "kernelspec": {
   "display_name": "data-eng-course",
   "language": "python",
   "name": "python3"
  },
  "language_info": {
   "codemirror_mode": {
    "name": "ipython",
    "version": 3
   },
   "file_extension": ".py",
   "mimetype": "text/x-python",
   "name": "python",
   "nbconvert_exporter": "python",
   "pygments_lexer": "ipython3",
   "version": "3.10.8 | packaged by conda-forge | (main, Nov 22 2022, 08:26:04) [GCC 10.4.0]"
  },
  "orig_nbformat": 4,
  "vscode": {
   "interpreter": {
    "hash": "f28b1bd3d9dbe3bb24d259a28197f7a4092a300d4422aed537326c404472baab"
   }
  }
 },
 "nbformat": 4,
 "nbformat_minor": 2
}
